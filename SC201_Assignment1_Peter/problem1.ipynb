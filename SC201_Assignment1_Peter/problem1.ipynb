{
 "cells": [
  {
   "cell_type": "code",
   "execution_count": 29,
   "metadata": {},
   "outputs": [
    {
     "data": {
      "text/plain": [
       "'\\nFile: validEmailAddress.py\\nName: \\n----------------------------\\nThis file shows what a feature vector is\\nand what a weight vector is for valid email \\naddress classifier. You will use a given \\nweight vector to classify what is the percentage\\nof correct classification.\\n\\nAccuracy of this model: TODO:\\n'"
      ]
     },
     "execution_count": 29,
     "metadata": {},
     "output_type": "execute_result"
    }
   ],
   "source": [
    "\"\"\"\n",
    "File: validEmailAddress.py\n",
    "Name: Peter\n",
    "----------------------------\n",
    "This file shows what a feature vector is\n",
    "and what a weight vector is for valid email \n",
    "address classifier. You will use a given \n",
    "weight vector to classify what is the percentage\n",
    "of correct classification.\n",
    "\n",
    "Accuracy of this model: TODO: 0.6923076923076923\n",
    "\"\"\""
   ]
  },
  {
   "cell_type": "code",
   "execution_count": 2,
   "metadata": {},
   "outputs": [],
   "source": [
    "WEIGHT = [                           # The weight vector selected by Jerry\n",
    "    [0.4],                           # (see assignment handout for more details)\n",
    "    [0.4],\n",
    "    [0.2],\n",
    "    [0.2],\n",
    "    [0.9],\n",
    "    [-0.65],\n",
    "    [0.1],\n",
    "    [0.1],\n",
    "    [0.1],\n",
    "    [-0.7]\n",
    "]\n",
    "\n",
    "DATA_FILE = 'is_valid_email.txt'     # This is the file name to be processed"
   ]
  },
  {
   "cell_type": "code",
   "execution_count": 30,
   "metadata": {},
   "outputs": [],
   "source": [
    "def main():\n",
    "    maybe_email_list = read_in_data()\n",
    "    accuracy = 0\n",
    "    for j in range(len(maybe_email_list)):\n",
    "        feature_vector = feature_extractor(maybe_email_list[j])\n",
    "        ans = 0\n",
    "        for i in range(len(WEIGHT)):\n",
    "            ans += feature_vector[i] * WEIGHT[i][0]\n",
    "        \n",
    "        if ans > 0 and j > 12:\n",
    "            accuracy += 1\n",
    "        if ans < 0 and j <= 12:\n",
    "            accuracy += 1\n",
    "    feature_vector = np.array(feature_vector)\n",
    "    print(accuracy/26)"
   ]
  },
  {
   "cell_type": "code",
   "execution_count": 31,
   "metadata": {},
   "outputs": [],
   "source": [
    "def feature_extractor(maybe_email):\n",
    "    \"\"\"\n",
    "    :param maybe_email: str, the string to be processed\n",
    "    :return: list, feature vector with value 0's and 1's\n",
    "    \"\"\"\n",
    "    feature_vector = [0] * len(WEIGHT)\n",
    "    for i in range(len(feature_vector)):\n",
    "        if i == 0:\n",
    "            feature_vector[i] = 1 if '@' in maybe_email else 0\n",
    "        elif i == 1:\n",
    "            if feature_vector[0]:\n",
    "                feature_vector[i] = 1 if '.' not in maybe_email.split('@')[0] else 0\n",
    "        elif i == 2:\n",
    "            if feature_vector[0]:\n",
    "                feature_vector[i] =1 if maybe_email[0] != \"@\" else 0\n",
    "        elif i == 3:\n",
    "            if feature_vector[0]:\n",
    "                feature_vector[i] =1 if maybe_email[-1] != \"@\" else 0\n",
    "        elif i == 4:\n",
    "            if feature_vector[0]:\n",
    "                feature_vector[i] = 1 if '.' in maybe_email.split('@')[1] else 0\n",
    "        elif i == 5:\n",
    "            feature_vector[i] = 1 if ' ' not in maybe_email else 0\n",
    "        elif i == 6:\n",
    "            feature_vector[i] = 1 if '.com' in maybe_email and maybe_email[-1] == \"m\" else 0   \n",
    "        elif i == 7:\n",
    "            feature_vector[i] = 1 if '.edu' in maybe_email and maybe_email[-1] == \"u\" else 0  \n",
    "        elif i == 8:\n",
    "            feature_vector[i] = 1 if '.tw' in maybe_email and maybe_email[-1] == \"w\" else 0  \n",
    "        elif i == 9:\n",
    "            feature_vector[i] = 1 if len(maybe_email) > 10 else 0 \n",
    "    return feature_vector\n"
   ]
  },
  {
   "cell_type": "code",
   "execution_count": 32,
   "metadata": {},
   "outputs": [],
   "source": [
    "def read_in_data():\n",
    "    \"\"\"\n",
    "    :return: list, containing strings that may be valid email addresses\n",
    "    \"\"\"\n",
    "    # TODO:\n",
    "    with open(DATA_FILE, 'r') as f:\n",
    "        data = f.read().strip()\n",
    "        return data.split('\\n')"
   ]
  },
  {
   "cell_type": "code",
   "execution_count": 33,
   "metadata": {},
   "outputs": [
    {
     "name": "stdout",
     "output_type": "stream",
     "text": [
      "0.6923076923076923\n"
     ]
    }
   ],
   "source": [
    "import numpy as np\n",
    "if __name__ == '__main__':\n",
    "    main()"
   ]
  },
  {
   "cell_type": "code",
   "execution_count": null,
   "metadata": {},
   "outputs": [],
   "source": []
  }
 ],
 "metadata": {
  "kernelspec": {
   "display_name": "Python 3",
   "language": "python",
   "name": "python3"
  },
  "language_info": {
   "codemirror_mode": {
    "name": "ipython",
    "version": 3
   },
   "file_extension": ".py",
   "mimetype": "text/x-python",
   "name": "python",
   "nbconvert_exporter": "python",
   "pygments_lexer": "ipython3",
   "version": "3.8.3"
  }
 },
 "nbformat": 4,
 "nbformat_minor": 4
}
