{
 "cells": [
  {
   "cell_type": "code",
   "execution_count": 95,
   "metadata": {},
   "outputs": [],
   "source": [
    "# File: linear_regression_one_varialbe\n",
    "# Name: \n",
    "# ----------------------------\n",
    "# This file shows the fundamental concepts of \n",
    "# machine learing:\n",
    "#   - loss function\n",
    "#   - cost function\n",
    "#   - linear regression\n",
    "#   - training process"
   ]
  },
  {
   "cell_type": "code",
   "execution_count": 96,
   "metadata": {},
   "outputs": [],
   "source": [
    "import matplotlib.pyplot as plt\n",
    "import numpy as np"
   ]
  },
  {
   "cell_type": "code",
   "execution_count": 97,
   "metadata": {},
   "outputs": [],
   "source": [
    "# This function computes the L2 loss which is \n",
    "# ----------------------------------------\n",
    "# [sum of (hypothesis(x_i) - y_i)^2] / 2*m\n",
    "# where hypothesis(x_i) == theta1(x_i^3) + theta2(x_i^2) + theta1(x_i) + b\n",
    "# ----------------------------------------\n",
    "# x_list: list, containing 21 data points\n",
    "# y_list: list, containing 21 data points\n",
    "# theta1: float, the parameter of x_i^3\n",
    "# theta2: float, the parameter of x_i^2\n",
    "# theta3: float, the parameter of x_i\n",
    "# b     : float, the parameter that controls the amount of line shift\n",
    "# return: floar, the sum over all L2 losses of data points\n",
    "\n",
    "def cost_function(theta1, theta2, theta3, b, x, y):\n",
    "    return sum((theta1*(x[i]**3) + theta2*(x[i]**2)+theta3*x[i] +b-y[i])**2 for i in range(len(x)))/ (len(x)*2)\n",
    "        "
   ]
  },
  {
   "cell_type": "code",
   "execution_count": 98,
   "metadata": {},
   "outputs": [
    {
     "data": {
      "text/plain": [
       "53.375"
      ]
     },
     "execution_count": 98,
     "metadata": {},
     "output_type": "execute_result"
    }
   ],
   "source": [
    "cost_function(0.5, 0.5, 0.5,0.5,[1,2,3],[1,2,3])"
   ]
  },
  {
   "cell_type": "code",
   "execution_count": 99,
   "metadata": {},
   "outputs": [],
   "source": [
    "def dJ_dtheta1(theta1, theta2, theta3, b, x, y):\n",
    "    return sum((theta1*(x[i]**3) + theta2*(x[i]**2)+theta3*x[i] +b-y[i])*(x[i]**3) for i in range(len(x))) /len(x)\n"
   ]
  },
  {
   "cell_type": "code",
   "execution_count": 100,
   "metadata": {},
   "outputs": [
    {
     "data": {
      "text/plain": [
       "168.0"
      ]
     },
     "execution_count": 100,
     "metadata": {},
     "output_type": "execute_result"
    }
   ],
   "source": [
    "dJ_dtheta1(0.5,0.5,0.5,0.5,[1,2,3],[1,2,3])"
   ]
  },
  {
   "cell_type": "code",
   "execution_count": 101,
   "metadata": {},
   "outputs": [],
   "source": [
    "def dJ_dtheta2(theta1, theta2, theta3, b, x, y):\n",
    "    return sum((theta1*(x[i]**3) + theta2*(x[i]**2)+theta3*x[i] +b-y[i])*(x[i]**2) for i in range(len(x))) /len(x)"
   ]
  },
  {
   "cell_type": "code",
   "execution_count": 102,
   "metadata": {},
   "outputs": [
    {
     "data": {
      "text/plain": [
       "58.666666666666664"
      ]
     },
     "execution_count": 102,
     "metadata": {},
     "output_type": "execute_result"
    }
   ],
   "source": [
    "dJ_dtheta2(0.5,0.5,0.5,0.5,[1,2,3],[1,2,3])"
   ]
  },
  {
   "cell_type": "code",
   "execution_count": 103,
   "metadata": {},
   "outputs": [],
   "source": [
    "def dJ_dtheta3(theta1, theta2, theta3, b, x, y):\n",
    "    return sum((theta1*(x[i]**3) + theta2*(x[i]**2)+theta3*x[i] +b-y[i])*x[i] for i in range(len(x))) /len(x)\n"
   ]
  },
  {
   "cell_type": "code",
   "execution_count": 104,
   "metadata": {},
   "outputs": [
    {
     "data": {
      "text/plain": [
       "21.0"
      ]
     },
     "execution_count": 104,
     "metadata": {},
     "output_type": "execute_result"
    }
   ],
   "source": [
    "dJ_dtheta3(0.5,0.5,0.5,0.5,[1,2,3],[1,2,3])"
   ]
  },
  {
   "cell_type": "code",
   "execution_count": 105,
   "metadata": {},
   "outputs": [],
   "source": [
    "def dJ_db(theta1, theta2, theta3, b, x, y):\n",
    "    return sum((theta1*(x[i]**3) + theta2*(x[i]**2)+theta3*x[i] +b-y[i]) for i in range(len(x))) /len(x)\n",
    "    "
   ]
  },
  {
   "cell_type": "code",
   "execution_count": 106,
   "metadata": {},
   "outputs": [
    {
     "data": {
      "text/plain": [
       "7.833333333333333"
      ]
     },
     "execution_count": 106,
     "metadata": {},
     "output_type": "execute_result"
    }
   ],
   "source": [
    "dJ_db(0.5,0.5,0.5,0.5,[1,2,3],[1,2,3])"
   ]
  },
  {
   "cell_type": "code",
   "execution_count": 107,
   "metadata": {},
   "outputs": [],
   "source": [
    "# ---------- DO NOT EDIT THE CODE BELOW THIS LINE ---------- #"
   ]
  },
  {
   "cell_type": "code",
   "execution_count": 108,
   "metadata": {},
   "outputs": [],
   "source": [
    "x = [6.1101,5.5277,8.5186,7.0032,5.8598,8.3829,7.4764,8.5781,6.4862,5.0546,5.7107,10.164,5.734,8.4084,5.6407,5.3794,6.3654,5.1301,6.4296,7.0708,6.1891]"
   ]
  },
  {
   "cell_type": "code",
   "execution_count": 109,
   "metadata": {},
   "outputs": [],
   "source": [
    "y = [6.592,9.1302,13.662,11.854,6.8233,11.886,4.3483,12,6.5987,3.8166,3.2522,15.505,3.1551,7.2258,0.71618,3.5129,5.3048,0.56077,3.6518,5.3893,3.1386]"
   ]
  },
  {
   "cell_type": "code",
   "execution_count": 110,
   "metadata": {},
   "outputs": [],
   "source": [
    "x = np.array(x)\n",
    "x_2 = x*x\n",
    "x_3 = x_2*x\n",
    "c = np.ones(21)"
   ]
  },
  {
   "cell_type": "code",
   "execution_count": 111,
   "metadata": {},
   "outputs": [],
   "source": [
    "X = np.concatenate((x, x_2, x_3, c), axis=0).reshape(4, 21).T\n",
    "from sklearn.linear_model import LinearRegression\n",
    "regr = LinearRegression()"
   ]
  },
  {
   "cell_type": "code",
   "execution_count": 112,
   "metadata": {},
   "outputs": [
    {
     "data": {
      "text/plain": [
       "LinearRegression()"
      ]
     },
     "execution_count": 112,
     "metadata": {},
     "output_type": "execute_result"
    }
   ],
   "source": [
    "regr.fit(X, y)"
   ]
  },
  {
   "cell_type": "code",
   "execution_count": 113,
   "metadata": {},
   "outputs": [
    {
     "data": {
      "text/plain": [
       "array([-2.45512913,  0.52664216, -0.01695167,  0.        ])"
      ]
     },
     "execution_count": 113,
     "metadata": {},
     "output_type": "execute_result"
    }
   ],
   "source": [
    "regr.coef_"
   ]
  },
  {
   "cell_type": "code",
   "execution_count": 114,
   "metadata": {},
   "outputs": [],
   "source": [
    "# ---------- Showing your data ---------- #"
   ]
  },
  {
   "cell_type": "code",
   "execution_count": 115,
   "metadata": {},
   "outputs": [
    {
     "data": {
      "text/plain": [
       "(0.0, 30.0)"
      ]
     },
     "execution_count": 115,
     "metadata": {},
     "output_type": "execute_result"
    },
    {
     "data": {
      "image/png": "[encoded data removed]",
      "text/plain": [
       "<Figure size 432x288 with 1 Axes>"
      ]
     },
     "metadata": {
      "needs_background": "light"
     },
     "output_type": "display_data"
    }
   ],
   "source": [
    "plt.scatter(x, y)\n",
    "axes = plt.gca()\n",
    "axes.set_xlim([0,12])\n",
    "axes.set_ylim([0,30])"
   ]
  },
  {
   "cell_type": "code",
   "execution_count": 116,
   "metadata": {},
   "outputs": [],
   "source": [
    "# Please do feature scaling by: \n",
    "# subtracting min(x) from each data point and dividing the result with (max(x)-min(x))\n",
    "x = list((x[i]-min(x))/(max(x)-min(x)) for i in range(len(x)))\n",
    "y = list((y[i]-min(y))/(max(y)-min(y)) for i in range(len(y)))"
   ]
  },
  {
   "cell_type": "code",
   "execution_count": 117,
   "metadata": {},
   "outputs": [
    {
     "name": "stdout",
     "output_type": "stream",
     "text": [
      "0.12841038086663803\n",
      "0.18009827204211928\n"
     ]
    }
   ],
   "source": [
    "print(x[10])         # You should see 0.12841038086663803\n",
    "print(y[10])         # You should see 0.18009827204211928"
   ]
  },
  {
   "cell_type": "code",
   "execution_count": 118,
   "metadata": {},
   "outputs": [
    {
     "data": {
      "text/plain": [
       "(0.0, 2.0)"
      ]
     },
     "execution_count": 118,
     "metadata": {},
     "output_type": "execute_result"
    },
    {
     "data": {
      "image/png": "[encoded data removed]",
      "text/plain": [
       "<Figure size 432x288 with 1 Axes>"
      ]
     },
     "metadata": {
      "needs_background": "light"
     },
     "output_type": "display_data"
    }
   ],
   "source": [
    "plt.scatter(x, y)\n",
    "axes = plt.gca()\n",
    "axes.set_xlim([-1,1.5])\n",
    "axes.set_ylim([0,2])"
   ]
  },
  {
   "cell_type": "code",
   "execution_count": 119,
   "metadata": {},
   "outputs": [],
   "source": [
    "# ------------ Initialize your theta ------------ #\n",
    "# --------- Randomly choose from -5 to +5 ---------- #"
   ]
  },
  {
   "cell_type": "code",
   "execution_count": 120,
   "metadata": {},
   "outputs": [],
   "source": [
    "theta1 = -0.01695167 # TODO:\n",
    "theta2 = 0.52664216 # TODO:\n",
    "theta3 = -2.45512913 # TODO:\n",
    "b = 0 # TODO:\n"
   ]
  },
  {
   "cell_type": "code",
   "execution_count": 121,
   "metadata": {},
   "outputs": [],
   "source": [
    "# ---------- Initialize your alpha ---------- #"
   ]
  },
  {
   "cell_type": "code",
   "execution_count": 122,
   "metadata": {},
   "outputs": [],
   "source": [
    "# TODO: which value is appropriate for alpha?\n",
    "# Try 0.001, 0.01, 0.1"
   ]
  },
  {
   "cell_type": "code",
   "execution_count": 123,
   "metadata": {},
   "outputs": [],
   "source": [
    "alpha = 0.001 # TODO:"
   ]
  },
  {
   "cell_type": "code",
   "execution_count": 124,
   "metadata": {},
   "outputs": [],
   "source": [
    "# ---------- Training process ---------- #\n",
    "# ---- 50 iterations over all data ----- # "
   ]
  },
  {
   "cell_type": "code",
   "execution_count": 125,
   "metadata": {},
   "outputs": [],
   "source": [
    "# Remember to append updated theta1, theta2, theta3, b to \n",
    "# The lists as well as the updated cost.\n",
    "\n",
    "theta1_history = []\n",
    "theta2_history = []\n",
    "theta3_history = []\n",
    "b_history = []\n",
    "cost_history = []\n",
    "for i in range(50):\n",
    "    theta1_history.append(theta1)\n",
    "    theta2_history.append(theta2)\n",
    "    theta3_history.append(theta3)\n",
    "    b_history.append(b)\n",
    "    \n",
    "    cost_history.append(cost_function(theta1, theta2, theta3, b, x, y))\n",
    "    \n",
    "    theta1 -= alpha * dJ_dtheta1(theta1, theta2, theta3, b, x, y)\n",
    "    theta2 -= alpha * dJ_dtheta2(theta1, theta2, theta3, b, x, y)\n",
    "    theta3 -= alpha * dJ_dtheta3(theta1, theta2, theta3, b, x, y)\n",
    "    b -= alpha * dJ_db(theta1, theta2, theta3, b, x, y)"
   ]
  },
  {
   "cell_type": "code",
   "execution_count": 126,
   "metadata": {},
   "outputs": [],
   "source": [
    "# ---------- Cost changes during training process ---------- #"
   ]
  },
  {
   "cell_type": "code",
   "execution_count": 127,
   "metadata": {},
   "outputs": [
    {
     "name": "stdout",
     "output_type": "stream",
     "text": [
      "[0.9163470032967866, 0.9145745140851551, 0.912806098060831, 0.9110417456793476, 0.9092814474186595, 0.9075251937790908, 0.9057729752832804, 0.9040247824761319, 0.9022806059247592, 0.9005404362184354, 0.8988042639685416, 0.8970720798085136, 0.8953438743937893, 0.893619638401759, 0.8918993625317144, 0.8901830375047928, 0.8884706540639306, 0.8867622029738099, 0.885057675020807, 0.8833570610129429, 0.8816603517798304, 0.879967538172626, 0.8782786110639769, 0.8765935613479715, 0.8749123799400891, 0.873235057777149, 0.8715615858172622, 0.8698919550397778, 0.8682261564452374, 0.8665641810553221, 0.8649060199128042, 0.8632516640814966, 0.8616011046462055, 0.8599543327126786, 0.8583113394075574, 0.8566721158783271, 0.8550366532932692, 0.8534049428414102, 0.8517769757324768, 0.8501527431968411, 0.8485322364854785, 0.8469154468699155, 0.8453023656421821, 0.8436929841147647, 0.8420872936205568, 0.8404852855128113, 0.8388869511650935, 0.837292281971232, 0.8357012693452717, 0.8341139047214277]\n"
     ]
    }
   ],
   "source": [
    "# Pay attention to the trend of cost. \n",
    "# Is is rising? If it is, why?\n",
    "\n",
    "print(cost_history)"
   ]
  },
  {
   "cell_type": "code",
   "execution_count": 128,
   "metadata": {},
   "outputs": [],
   "source": [
    "# ---------------------------- Please do not modify codes below this line ---------------------------- #"
   ]
  },
  {
   "cell_type": "code",
   "execution_count": 141,
   "metadata": {},
   "outputs": [
    {
     "name": "stdout",
     "output_type": "stream",
     "text": [
      "theta1: -0.01695167, theta2: 0.52664216, theta3: -2.45512913, b: 0\n"
     ]
    },
    {
     "data": {
      "image/png": "[encoded data removed]",
      "text/plain": [
       "<Figure size 432x288 with 1 Axes>"
      ]
     },
     "metadata": {
      "needs_background": "light"
     },
     "output_type": "display_data"
    }
   ],
   "source": [
    "theta1 = theta1_history[0]\n",
    "theta2 = theta2_history[0]\n",
    "theta3 = theta3_history[0]\n",
    "b = b_history[0]\n",
    "\n",
    "print(f'theta1: {theta1}, theta2: {theta2}, theta3: {theta3}, b: {b}')\n",
    "\n",
    "x_plot = np.linspace(-0.25, 1.25, 100)\n",
    "y_plot = theta1*(x_plot**3)+theta2*(x_plot**2)+theta3*(x_plot)+b\n",
    "\n",
    "\n",
    "plt.scatter(x_plot, y_plot, color='red')\n",
    "plt.scatter(x, y, color='blue')\n",
    "\n",
    "\n",
    "# show the plot\n",
    "plt.title(\"1 iterations\", color='red', fontdict = {'fontsize': 20})\n",
    "plt.show()"
   ]
  },
  {
   "cell_type": "code",
   "execution_count": 130,
   "metadata": {},
   "outputs": [
    {
     "name": "stdout",
     "output_type": "stream",
     "text": [
      "theta1: -0.01444049220586643, theta2: 0.5299710127823235, theta3: -2.450085800411495, b: 0.009974371204867181\n"
     ]
    },
    {
     "data": {
      "image/png": "[encoded data removed]",
      "text/plain": [
       "<Figure size 432x288 with 1 Axes>"
      ]
     },
     "metadata": {
      "needs_background": "light"
     },
     "output_type": "display_data"
    }
   ],
   "source": [
    "theta1 = theta1_history[9]\n",
    "theta2 = theta2_history[9]\n",
    "theta3 = theta3_history[9]\n",
    "b = b_history[9]\n",
    "\n",
    "print(f'theta1: {theta1}, theta2: {theta2}, theta3: {theta3}, b: {b}')\n",
    "\n",
    "x_plot = np.linspace(-0.25, 1.25, 100)\n",
    "y_plot = theta1*(x_plot**3)+theta2*(x_plot**2)+theta3*(x_plot)+b\n",
    "\n",
    "\n",
    "plt.scatter(x_plot, y_plot, color='red')\n",
    "plt.scatter(x, y, color='blue')\n",
    "\n",
    "\n",
    "# show the plot\n",
    "plt.title(\"10 iterations\", color='red', fontdict = {'fontsize': 20})\n",
    "plt.show()"
   ]
  },
  {
   "cell_type": "code",
   "execution_count": 131,
   "metadata": {},
   "outputs": [
    {
     "name": "stdout",
     "output_type": "stream",
     "text": [
      "theta1: -0.01167204452018825, theta2: 0.5336397051131803, theta3: -2.4445322922498582, b: 0.020925642293820435\n"
     ]
    },
    {
     "data": {
      "image/png": "[encoded data removed]",
      "text/plain": [
       "<Figure size 432x288 with 1 Axes>"
      ]
     },
     "metadata": {
      "needs_background": "light"
     },
     "output_type": "display_data"
    }
   ],
   "source": [
    "theta1 = theta1_history[19]\n",
    "theta2 = theta2_history[19]\n",
    "theta3 = theta3_history[19]\n",
    "b = b_history[19]\n",
    "\n",
    "print(f'theta1: {theta1}, theta2: {theta2}, theta3: {theta3}, b: {b}')\n",
    "\n",
    "x_plot = np.linspace(-0.25, 1.25, 100)\n",
    "y_plot = theta1*(x_plot**3)+theta2*(x_plot**2)+theta3*(x_plot)+b\n",
    "\n",
    "\n",
    "plt.scatter(x_plot, y_plot, color='red')\n",
    "plt.scatter(x, y, color='blue')\n",
    "\n",
    "\n",
    "# show the plot\n",
    "plt.title(\"20 iterations\", color='red', fontdict = {'fontsize': 20})\n",
    "plt.show()"
   ]
  },
  {
   "cell_type": "code",
   "execution_count": 132,
   "metadata": {},
   "outputs": [],
   "source": [
    "# ---------- Plot the errors over the training process ---------- #"
   ]
  },
  {
   "cell_type": "code",
   "execution_count": 133,
   "metadata": {},
   "outputs": [
    {
     "name": "stdout",
     "output_type": "stream",
     "text": [
      "theta1: -0.008926248508973528, theta2: 0.5372771238727788, theta3: -2.439031036253476, b: 0.03174021151903011\n"
     ]
    },
    {
     "data": {
      "image/png": "[encoded data removed]",
      "text/plain": [
       "<Figure size 432x288 with 1 Axes>"
      ]
     },
     "metadata": {
      "needs_background": "light"
     },
     "output_type": "display_data"
    }
   ],
   "source": [
    "theta1 = theta1_history[29]\n",
    "theta2 = theta2_history[29]\n",
    "theta3 = theta3_history[29]\n",
    "b = b_history[29]\n",
    "\n",
    "print(f'theta1: {theta1}, theta2: {theta2}, theta3: {theta3}, b: {b}')\n",
    "\n",
    "x_plot = np.linspace(-0.25, 1.25, 100)\n",
    "y_plot = theta1*(x_plot**3)+theta2*(x_plot**2)+theta3*(x_plot)+b\n",
    "\n",
    "\n",
    "plt.scatter(x_plot, y_plot, color='red')\n",
    "plt.scatter(x, y, color='blue')\n",
    "\n",
    "\n",
    "# show the plot\n",
    "plt.title(\"30 iterations\", color='red', fontdict = {'fontsize': 20})\n",
    "plt.show()"
   ]
  },
  {
   "cell_type": "code",
   "execution_count": 134,
   "metadata": {},
   "outputs": [
    {
     "name": "stdout",
     "output_type": "stream",
     "text": [
      "theta1: -0.006202855718520195, theta2: 0.5408836168977383, theta3: -2.433581438352352, b: 0.042419690198433654\n"
     ]
    },
    {
     "data": {
      "image/png": "[encoded data removed]",
      "text/plain": [
       "<Figure size 432x288 with 1 Axes>"
      ]
     },
     "metadata": {
      "needs_background": "light"
     },
     "output_type": "display_data"
    }
   ],
   "source": [
    "theta1 = theta1_history[39]\n",
    "theta2 = theta2_history[39]\n",
    "theta3 = theta3_history[39]\n",
    "b = b_history[39]\n",
    "\n",
    "print(f'theta1: {theta1}, theta2: {theta2}, theta3: {theta3}, b: {b}')\n",
    "\n",
    "x_plot = np.linspace(-0.25, 1.25, 100)\n",
    "y_plot = theta1*(x_plot**3)+theta2*(x_plot**2)+theta3*(x_plot)+b\n",
    "\n",
    "\n",
    "plt.scatter(x_plot, y_plot, color='red')\n",
    "plt.scatter(x, y, color='blue')\n",
    "\n",
    "\n",
    "# show the plot\n",
    "plt.title(\"40 iterations\", color='red', fontdict = {'fontsize': 20})\n",
    "plt.show()"
   ]
  },
  {
   "cell_type": "code",
   "execution_count": 135,
   "metadata": {},
   "outputs": [
    {
     "data": {
      "text/plain": [
       "Text(0.5, 1.0, 'Errors over iterations')"
      ]
     },
     "execution_count": 135,
     "metadata": {},
     "output_type": "execute_result"
    },
    {
     "data": {
      "image/png": "[encoded data removed]",
      "text/plain": [
       "<Figure size 432x288 with 1 Axes>"
      ]
     },
     "metadata": {
      "needs_background": "light"
     },
     "output_type": "display_data"
    }
   ],
   "source": [
    "cost_x = list(range(len(cost_history)))\n",
    "cost_y = cost_history\n",
    "plt.plot(cost_x, cost_y)\n",
    "plt.title(\"Errors over iterations\", color = 'blue')"
   ]
  },
  {
   "cell_type": "code",
   "execution_count": null,
   "metadata": {},
   "outputs": [],
   "source": []
  },
  {
   "cell_type": "code",
   "execution_count": null,
   "metadata": {},
   "outputs": [],
   "source": []
  }
 ],
 "metadata": {
  "kernelspec": {
   "display_name": "Python 3",
   "language": "python",
   "name": "python3"
  },
  "language_info": {
   "codemirror_mode": {
    "name": "ipython",
    "version": 3
   },
   "file_extension": ".py",
   "mimetype": "text/x-python",
   "name": "python",
   "nbconvert_exporter": "python",
   "pygments_lexer": "ipython3",
   "version": "3.8.3"
  }
 },
 "nbformat": 4,
 "nbformat_minor": 4
}
