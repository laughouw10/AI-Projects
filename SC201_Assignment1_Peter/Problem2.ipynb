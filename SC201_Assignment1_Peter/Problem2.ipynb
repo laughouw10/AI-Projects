{
 "cells": [
  {
   "cell_type": "code",
   "execution_count": 82,
   "metadata": {},
   "outputs": [
    {
     "data": {
      "text/plain": [
       "\"\\nFile: validEmailAddress_2.py\\nName: \\n----------------------------\\nPlease construct your own feature vectors\\nand try to surpass ~70% accuracy achieved by\\nJerry's feature vector in validEmailAddress.py.\\nfeature1:  TODO:\\nfeature2:  TODO:\\nfeature3:  TODO:\\nfeature4:  TODO:\\nfeature5:  TODO:\\nfeature6:  TODO:\\nfeature7:  TODO:\\nfeature8:  TODO:\\nfeature9:  TODO:\\nfeature10: TODO:\\n\\nAccuracy of this model: TODO:\\n\""
      ]
     },
     "execution_count": 82,
     "metadata": {},
     "output_type": "execute_result"
    }
   ],
   "source": [
    "\"\"\"\n",
    "File: validEmailAddress_2.py\n",
    "Name: \n",
    "----------------------------\n",
    "Please construct your own feature vectors\n",
    "and try to surpass ~70% accuracy achieved by\n",
    "Jerry's feature vector in validEmailAddress.py.\n",
    "feature1:  TODO: same as problem1\n",
    "feature2:  TODO: same as problem1\n",
    "feature3:  TODO: same as problem1\n",
    "feature4:  TODO: same as problem1\n",
    "feature5:  TODO: same as problem1\n",
    "feature6:  TODO: same as problem1\n",
    "feature7:  TODO: same as problem1\n",
    "feature8:  TODO: same as problem1\n",
    "feature9:  TODO: same as problem1\n",
    "feature10: TODO: \" befor\n",
    "\n",
    "Accuracy of this model: TODO:\n",
    "\"\"\""
   ]
  },
  {
   "cell_type": "code",
   "execution_count": 83,
   "metadata": {},
   "outputs": [],
   "source": [
    "DATA_FILE = 'is_valid_email.txt'     # This is the file name to be processed"
   ]
  },
  {
   "cell_type": "code",
   "execution_count": 84,
   "metadata": {},
   "outputs": [],
   "source": [
    "def main():\n",
    "    maybe_email_list = read_in_data()\n",
    "    accuracy = 0\n",
    "    \n",
    "    \n",
    "    lst = []\n",
    "    for j in range(len(maybe_email_list)):\n",
    "        feature_vector = feature_extractor(maybe_email_list[j])\n",
    "        ans = 0\n",
    "        lst.append(feature_vector)\n",
    "        for i in range(len(WEIGHT)):\n",
    "            ans += feature_vector[i] * WEIGHT[i][0]\n",
    "        \n",
    "        if ans > 0 and j > 12:\n",
    "            accuracy += 1\n",
    "        if ans < 0 and j <= 12:\n",
    "            accuracy += 1\n",
    "    \n",
    "    f_lst = np.array(lst)\n",
    "    \n",
    "    model = LinearRegression()\n",
    "    model.fit(f_lst, [-1, -1, -1, -1, -1, -1, -1, -1, -1, -1, -1, -1, -1,\n",
    "                                   1, 1, 1, 1, 1, 1, 1, 1, 1, 1, 1, 1, 1])\n",
    "    score_lst = model.predict(f_lst)\n",
    "    acc = sum(score_lst[:13]<0)+sum(score_lst[13:]>0)\n",
    "    print(acc/26)"
   ]
  },
  {
   "cell_type": "code",
   "execution_count": 85,
   "metadata": {},
   "outputs": [],
   "source": [
    "def feature_extractor(maybe_email):\n",
    "    \"\"\"\n",
    "    :param maybe_email: str, the string to be processed\n",
    "    :return: list, feature vector with value 0's and 1's\n",
    "    \"\"\"\n",
    "    feature_vector = [0] * len(WEIGHT)\n",
    "    for i in range(len(feature_vector)):\n",
    "        if i == 0:\n",
    "            feature_vector[i] = 1 if '@' in maybe_email else 0\n",
    "        elif i == 1:\n",
    "            if feature_vector[0]:\n",
    "                feature_vector[i] = 1 if '.' not in maybe_email.split('@')[0] else 0\n",
    "        elif i == 2:\n",
    "            if feature_vector[0]:\n",
    "                feature_vector[i] =1 if maybe_email[0] != \"@\" else 0\n",
    "        elif i == 3:\n",
    "            if feature_vector[0]:\n",
    "                feature_vector[i] =1 if maybe_email[-1] != \"@\" else 0\n",
    "        elif i == 4:\n",
    "            if feature_vector[0]:\n",
    "                feature_vector[i] = 1 if '.' in maybe_email.split('@')[1] else 0\n",
    "        elif i == 5:\n",
    "            feature_vector[i] = 1 if ' ' not in maybe_email else 0\n",
    "        elif i == 6:\n",
    "            feature_vector[i] = 1 if maybe_email.endswith(\".com\") else 0   \n",
    "        elif i == 7:\n",
    "            feature_vector[i] = 1 if maybe_email.endswith(\".edu\") else 0  \n",
    "        elif i == 8:\n",
    "            feature_vector[i] = 1 if maybe_email.endswith(\".tw\") else 0  \n",
    "        elif i == 9:\n",
    "            feature_vector[i] = 1 if '\\\"' not in maybe_email.split('@')[0] else 0 \n",
    "    return feature_vector\n"
   ]
  },
  {
   "cell_type": "code",
   "execution_count": 86,
   "metadata": {},
   "outputs": [],
   "source": [
    "def read_in_data():\n",
    "    \"\"\"\n",
    "    :return: list, containing strings that may be valid email addresses\n",
    "    \"\"\"\n",
    "    # TODO:\n",
    "    with open(DATA_FILE, 'r') as f:\n",
    "        data = f.read().strip()\n",
    "        return data.split('\\n')"
   ]
  },
  {
   "cell_type": "code",
   "execution_count": 87,
   "metadata": {},
   "outputs": [
    {
     "name": "stdout",
     "output_type": "stream",
     "text": [
      "0.8076923076923077\n"
     ]
    }
   ],
   "source": [
    "import numpy as np\n",
    "from sklearn.linear_model import LinearRegression\n",
    "if __name__ == '__main__':\n",
    "    main()"
   ]
  },
  {
   "cell_type": "code",
   "execution_count": null,
   "metadata": {},
   "outputs": [],
   "source": []
  }
 ],
 "metadata": {
  "kernelspec": {
   "display_name": "Python 3",
   "language": "python",
   "name": "python3"
  },
  "language_info": {
   "codemirror_mode": {
    "name": "ipython",
    "version": 3
   },
   "file_extension": ".py",
   "mimetype": "text/x-python",
   "name": "python",
   "nbconvert_exporter": "python",
   "pygments_lexer": "ipython3",
   "version": "3.8.3"
  }
 },
 "nbformat": 4,
 "nbformat_minor": 4
}
